{
 "cells": [
  {
   "cell_type": "code",
   "execution_count": 1,
   "id": "408df9af",
   "metadata": {},
   "outputs": [],
   "source": [
    "class power:\n",
    "\n",
    "    def __init__(self,x,n):\n",
    "        self.x=x\n",
    "        self.n=n\n",
    "    def func(self):\n",
    "        if (self.n==0):\n",
    "            return 1\n",
    "        else:\n",
    "            self.cal=self.x**self.n\n",
    "            return self.cal\n",
    "  "
   ]
  },
  {
   "cell_type": "code",
   "execution_count": 2,
   "id": "7c265202",
   "metadata": {},
   "outputs": [],
   "source": [
    "e=power(2,2)"
   ]
  },
  {
   "cell_type": "code",
   "execution_count": 4,
   "id": "358507cc",
   "metadata": {},
   "outputs": [
    {
     "name": "stdout",
     "output_type": "stream",
     "text": [
      "4\n"
     ]
    }
   ],
   "source": [
    "print(e.func())"
   ]
  },
  {
   "cell_type": "code",
   "execution_count": 5,
   "id": "7588e481",
   "metadata": {},
   "outputs": [],
   "source": [
    "l=power(5,2)"
   ]
  },
  {
   "cell_type": "code",
   "execution_count": 6,
   "id": "92b463e8",
   "metadata": {},
   "outputs": [
    {
     "name": "stdout",
     "output_type": "stream",
     "text": [
      "25\n"
     ]
    }
   ],
   "source": [
    "print(l.func())"
   ]
  },
  {
   "cell_type": "code",
   "execution_count": 7,
   "id": "4edf19c9",
   "metadata": {},
   "outputs": [],
   "source": [
    "d=power(10,2)"
   ]
  },
  {
   "cell_type": "code",
   "execution_count": 8,
   "id": "f28b351d",
   "metadata": {},
   "outputs": [
    {
     "name": "stdout",
     "output_type": "stream",
     "text": [
      "100\n"
     ]
    }
   ],
   "source": [
    "print(d.func())"
   ]
  },
  {
   "cell_type": "code",
   "execution_count": 9,
   "id": "3c60160a",
   "metadata": {},
   "outputs": [],
   "source": [
    "e=power(2,0)"
   ]
  },
  {
   "cell_type": "code",
   "execution_count": 10,
   "id": "ac93a5fa",
   "metadata": {},
   "outputs": [
    {
     "name": "stdout",
     "output_type": "stream",
     "text": [
      "1\n"
     ]
    }
   ],
   "source": [
    "print(e.func())"
   ]
  },
  {
   "cell_type": "code",
   "execution_count": null,
   "id": "59d6815a",
   "metadata": {},
   "outputs": [],
   "source": []
  }
 ],
 "metadata": {
  "kernelspec": {
   "display_name": "Python 3 (ipykernel)",
   "language": "python",
   "name": "python3"
  },
  "language_info": {
   "codemirror_mode": {
    "name": "ipython",
    "version": 3
   },
   "file_extension": ".py",
   "mimetype": "text/x-python",
   "name": "python",
   "nbconvert_exporter": "python",
   "pygments_lexer": "ipython3",
   "version": "3.9.7"
  }
 },
 "nbformat": 4,
 "nbformat_minor": 5
}
